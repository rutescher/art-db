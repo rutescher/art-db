{
 "cells": [
  {
   "cell_type": "code",
   "execution_count": 1,
   "id": "13bb21bf-b96b-44fd-9da5-bf86d28ecc8c",
   "metadata": {},
   "outputs": [],
   "source": [
    "import pandas as pd\n",
    "\n",
    "from SPARQLWrapper import SPARQLWrapper, JSON\n",
    "from sqlalchemy import create_engine, MetaData, text\n",
    "#from sqlalchemy.orm import sessionmaker"
   ]
  },
  {
   "cell_type": "code",
   "execution_count": 2,
   "id": "53cd083d-b54b-4571-a4e3-808e87f364f6",
   "metadata": {},
   "outputs": [],
   "source": [
    "#create sqlite engine in memory\n",
    "engine = create_engine(\"sqlite:///:memory:\")\n",
    "\n",
    "with engine.connect() as con:\n",
    "    with open(\"create_schema.sql\") as file:\n",
    "        #only one query is accepted at a time, so we split - feels hacky\n",
    "        query_list = file.read().split(';')\n",
    "        for query_text in query_list:\n",
    "            query = text(query_text)\n",
    "            con.execute(query)"
   ]
  },
  {
   "cell_type": "code",
   "execution_count": 3,
   "id": "e291fb7f-027a-42df-ab5a-90e36ce0094a",
   "metadata": {},
   "outputs": [
    {
     "name": "stdout",
     "output_type": "stream",
     "text": [
      "t_art_objects\n",
      "ID\n",
      "TITLE\n",
      "DESCRIPTION\n",
      "PAINTER_ID\n",
      "t_art_owners\n",
      "ID\n",
      "OWNER_ID\n",
      "START_OWNERSHIP\n",
      "END_OWNERSHIP\n"
     ]
    }
   ],
   "source": [
    "#check if tables and columns are all there\n",
    "m = MetaData()\n",
    "m.reflect(engine)\n",
    "for table in m.tables.values():\n",
    "    print(table.name)\n",
    "    for column in table.c:\n",
    "        print(column.name)"
   ]
  },
  {
   "cell_type": "code",
   "execution_count": 4,
   "id": "b429abc9-348e-4a2d-9100-5e66df390038",
   "metadata": {},
   "outputs": [],
   "source": []
  },
  {
   "cell_type": "code",
   "execution_count": 5,
   "id": "5897fa09-99de-4472-a6cf-50bac328f1ae",
   "metadata": {},
   "outputs": [],
   "source": [
    "#wikidata endpoint\n",
    "sparql = SPARQLWrapper(\n",
    "    \"https://query.wikidata.org/sparql\"\n",
    ")\n",
    "\n",
    "#query for the art_object_list with AUTO_LANGUAGE replaced\n",
    "sparql.setQuery(\"\"\"\n",
    "    SELECT ?artObject ?artObjectLabel ?artObjectDescription ?ownedby ?ownedbyLabel\n",
    "    WHERE {\n",
    "        ?artObject wdt:P31 wd:Q3305213 ; # Get items that are instances of painting\n",
    "         wdt:P127 ?ownedby. #at least one owner is known in wikidata\n",
    "        ?ownedby wdt:P1840 wd:Q30335959 . #the owner was ALIU Red Flag   \n",
    "    \n",
    "        SERVICE wikibase:label { bd:serviceParam wikibase:language \"de, en\"}\n",
    "    }\n",
    "    GROUP BY ?artObject ?artObjectLabel ?artObjectDescription ?ownedby ?ownedbyLabel\n",
    "    \"\"\"\n",
    ")\n",
    "\n",
    "sparql.setReturnFormat(JSON) #request json\n",
    "\n",
    "#query and reshape to create dataframe with field values only\n",
    "results = sparql.query().convert() \n",
    "results_df = pd.json_normalize(results['results']['bindings']) \n",
    "results_df = results_df[[col for col in results_df if 'value'in col]]\n",
    "\n",
    "#change to db column names\n",
    "results_df.columns = \"ID DESCRIPTION TITLE PAINTER_ID CREATION_YEAR\".split()"
   ]
  },
  {
   "cell_type": "code",
   "execution_count": 6,
   "id": "e9e35b20-30c2-4fba-8a1a-6ddb7ef03c9e",
   "metadata": {},
   "outputs": [],
   "source": []
  },
  {
   "cell_type": "code",
   "execution_count": 7,
   "id": "c06a05c7-43b4-4d05-b4ba-a1bc508285c3",
   "metadata": {},
   "outputs": [],
   "source": []
  },
  {
   "cell_type": "code",
   "execution_count": 8,
   "id": "c82b07bb-9d0b-4b26-b978-4fc8b53116d4",
   "metadata": {},
   "outputs": [
    {
     "data": {
      "text/plain": [
       "630"
      ]
     },
     "execution_count": 8,
     "metadata": {},
     "output_type": "execute_result"
    }
   ],
   "source": [
    "#insert complete table into df\n",
    "results_df.to_sql('t_art_objects', con=engine, index=False, if_exists='replace')"
   ]
  },
  {
   "cell_type": "code",
   "execution_count": null,
   "id": "5b0c6d7d-a9c2-4912-a26c-4cecb96f42d2",
   "metadata": {},
   "outputs": [],
   "source": []
  },
  {
   "cell_type": "code",
   "execution_count": null,
   "id": "db14de50-1d1b-4606-9290-11ea9a3858c0",
   "metadata": {},
   "outputs": [],
   "source": []
  },
  {
   "cell_type": "code",
   "execution_count": 83,
   "id": "aea85e79-5a79-4e17-85dd-e071de5329f7",
   "metadata": {},
   "outputs": [
    {
     "data": {
      "text/plain": [
       "Table('t_art_objects', MetaData(), Column('ID', TEXT(), table=<t_art_objects>), Column('DESCRIPTION', TEXT(), table=<t_art_objects>), Column('TITLE', TEXT(), table=<t_art_objects>), Column('PAINTER_ID', TEXT(), table=<t_art_objects>), Column('CREATION_YEAR', TEXT(), table=<t_art_objects>), schema=None)"
      ]
     },
     "execution_count": 83,
     "metadata": {},
     "output_type": "execute_result"
    }
   ],
   "source": [
    "#m.tables['t_art_objects']"
   ]
  },
  {
   "cell_type": "code",
   "execution_count": 27,
   "id": "9b345514-ac90-44a0-9b08-314fd2a2a409",
   "metadata": {},
   "outputs": [
    {
     "data": {
      "text/plain": [
       "('http://www.wikidata.org/entity/Q1114220', 'Mohnblumenfeld bei Vétheuil', 'Gemälde von Claude Monet, 1880', 'http://www.wikidata.org/entity/Q96297', 'Emil Georg Bührle')"
      ]
     },
     "execution_count": 27,
     "metadata": {},
     "output_type": "execute_result"
    }
   ],
   "source": [
    "#check if data is actually in db\n",
    "con =  engine.connect() \n",
    "con.execute(text(\"SELECT * FROM t_art_objects\")).fetchone()"
   ]
  },
  {
   "cell_type": "code",
   "execution_count": null,
   "id": "86bd06c5-73b7-4b9c-ac13-d44cc8775df6",
   "metadata": {},
   "outputs": [],
   "source": []
  }
 ],
 "metadata": {
  "kernelspec": {
   "display_name": "Python 3 (ipykernel)",
   "language": "python",
   "name": "python3"
  },
  "language_info": {
   "codemirror_mode": {
    "name": "ipython",
    "version": 3
   },
   "file_extension": ".py",
   "mimetype": "text/x-python",
   "name": "python",
   "nbconvert_exporter": "python",
   "pygments_lexer": "ipython3",
   "version": "3.9.18"
  }
 },
 "nbformat": 4,
 "nbformat_minor": 5
}
