{
 "cells": [
  {
   "cell_type": "code",
   "execution_count": 1,
   "id": "13bb21bf-b96b-44fd-9da5-bf86d28ecc8c",
   "metadata": {},
   "outputs": [],
   "source": [
    "from sqlalchemy import create_engine\n",
    "from sqlalchemy import text"
   ]
  },
  {
   "cell_type": "code",
   "execution_count": 12,
   "id": "53cd083d-b54b-4571-a4e3-808e87f364f6",
   "metadata": {},
   "outputs": [],
   "source": [
    "engine = create_engine(\"sqlite:///:memory:\")\n",
    "\n",
    "with engine.connect() as con:\n",
    "    with open(\"create_schema.sql\") as file:\n",
    "        query_list = file.read().split(';')\n",
    "        #print(query_list)\n",
    "        for query_text in query_list:\n",
    "            query = text(query_text)\n",
    "            con.execute(query)"
   ]
  },
  {
   "cell_type": "code",
   "execution_count": 13,
   "id": "e291fb7f-027a-42df-ab5a-90e36ce0094a",
   "metadata": {},
   "outputs": [
    {
     "name": "stdout",
     "output_type": "stream",
     "text": [
      "t_art_objects\n",
      "ID\n",
      "DESCRIPTION\n",
      "PAINTER_ID\n",
      "CREATION_YEAR\n",
      "t_art_owners\n",
      "ID\n",
      "OWNER_ID\n",
      "START_OWNERSHIP\n",
      "END_OWNERSHIP\n"
     ]
    }
   ],
   "source": [
    "from sqlalchemy import MetaData\n",
    "m = MetaData()\n",
    "m.reflect(engine)\n",
    "for table in m.tables.values():\n",
    "    print(table.name)\n",
    "    for column in table.c:\n",
    "        print(column.name)"
   ]
  },
  {
   "cell_type": "code",
   "execution_count": null,
   "id": "c82b07bb-9d0b-4b26-b978-4fc8b53116d4",
   "metadata": {},
   "outputs": [],
   "source": []
  },
  {
   "cell_type": "code",
   "execution_count": null,
   "id": "db14de50-1d1b-4606-9290-11ea9a3858c0",
   "metadata": {},
   "outputs": [],
   "source": []
  }
 ],
 "metadata": {
  "kernelspec": {
   "display_name": "Python 3 (ipykernel)",
   "language": "python",
   "name": "python3"
  },
  "language_info": {
   "codemirror_mode": {
    "name": "ipython",
    "version": 3
   },
   "file_extension": ".py",
   "mimetype": "text/x-python",
   "name": "python",
   "nbconvert_exporter": "python",
   "pygments_lexer": "ipython3",
   "version": "3.9.18"
  }
 },
 "nbformat": 4,
 "nbformat_minor": 5
}
